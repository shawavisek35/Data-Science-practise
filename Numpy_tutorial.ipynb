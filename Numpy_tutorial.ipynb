{
 "cells": [
  {
   "cell_type": "markdown",
   "metadata": {},
   "source": [
    "## Inserting in numpy"
   ]
  },
  {
   "cell_type": "code",
   "execution_count": 5,
   "metadata": {},
   "outputs": [
    {
     "name": "stdout",
     "output_type": "stream",
     "text": [
      "\n",
      "Array with 1D list : \n",
      " [1 2 3 4 5 5]\n",
      "\n",
      "Array with 2D list : \n",
      " [[1 2 3 4]\n",
      " [5 3 6 7]\n",
      " [8 9 1 3]]\n",
      "\n",
      "Array with 1D tuple : \n",
      " [1 2 3 4 5 6]\n",
      "\n",
      "Array with 2D Tuple : \n",
      " [[1 2 3 4]\n",
      " [1 6 8 3]\n",
      " [4 2 8 7]]\n"
     ]
    }
   ],
   "source": [
    "\"\"\"\n",
    "We can either use python list or tuple to insert elements in a numpy array\n",
    "\n",
    "\"\"\"\n",
    "\n",
    "import numpy as np\n",
    "elements = [1,2,3,4,5,5]\n",
    "elements2 = [\n",
    "    [1,2,3,4],\n",
    "    [5,3,6,7],\n",
    "    [8,9,1,3]\n",
    "]\n",
    "elements3 = (1,2,3,4,5,6)\n",
    "elements4 = (\n",
    "    (1,2,3,4),\n",
    "    (1,6,8,3),\n",
    "    (4,2,8,7)\n",
    ")\n",
    "\n",
    "#creating numpy array\n",
    "arr_with_1d_list = np.array(elements)\n",
    "arr_with_2d_list = np.array(elements2)\n",
    "arr_with_1d_tuple = np.array(elements3)\n",
    "arr_with_2d_tuple = np.array(elements4)\n",
    "\n",
    "\n",
    "#printing the numpy array\n",
    "print(\"\\nArray with 1D list : \\n\",arr_with_1d_list)\n",
    "print(\"\\nArray with 2D list : \\n\",arr_with_2d_list)\n",
    "print(\"\\nArray with 1D tuple : \\n\",arr_with_1d_tuple)\n",
    "print(\"\\nArray with 2D Tuple : \\n\",arr_with_2d_tuple)"
   ]
  },
  {
   "cell_type": "markdown",
   "metadata": {},
   "source": [
    "## Accessing the elements inside of the array"
   ]
  },
  {
   "cell_type": "code",
   "execution_count": 22,
   "metadata": {},
   "outputs": [
    {
     "name": "stdout",
     "output_type": "stream",
     "text": [
      "\n",
      "Array with first 2 rows and first 2 columns : \n",
      " [[1 2]\n",
      " [5 3]]\n",
      "\n",
      "Array with first 2 rows and last 2 columns : \n",
      " [[3 4]\n",
      " [6 7]]\n",
      "\n",
      "Array with first 2 rows and Alternate columns of the first two rows : \n",
      " [[1 3]\n",
      " [5 6]]\n"
     ]
    }
   ],
   "source": [
    "\"\"\"\n",
    "Let's consider the above arr_with_2d_list for further learning\n",
    "\"\"\"\n",
    "\n",
    "#printing a range of array\n",
    "print(\"\\nArray with first 2 rows and first 2 columns : \\n\",arr_with_2d_list[:2,:2])\n",
    "print(\"\\nArray with first 2 rows and last 2 columns : \\n\",arr_with_2d_list[:2,-2:])\n",
    "print(\"\\nArray with first 2 rows and Alternate columns of the first two rows : \\n\",arr_with_2d_list[:2,::2])"
   ]
  },
  {
   "cell_type": "markdown",
   "metadata": {},
   "source": [
    "## Basic operations with numpy arrays\n"
   ]
  },
  {
   "cell_type": "code",
   "execution_count": 40,
   "metadata": {},
   "outputs": [
    {
     "name": "stdout",
     "output_type": "stream",
     "text": [
      "\n",
      "Original Array : \n",
      " [[  1   2   3   4   5]\n",
      " [  3   4   5   6  34]\n",
      " [  7   8   9   4  80]\n",
      " [  1   2   8   9 100]]\n",
      "\n",
      "Adding 2 to all the elements of the 2d array : \n",
      " [[  3   4   5   6   7]\n",
      " [  5   6   7   8  36]\n",
      " [  9  10  11   6  82]\n",
      " [  3   4  10  11 102]]\n",
      "\n",
      "Subtracting two from all the elements of the 2d array : \n",
      " [[-1  0  1  2  3]\n",
      " [ 1  2  3  4 32]\n",
      " [ 5  6  7  2 78]\n",
      " [-1  0  6  7 98]]\n",
      "\n",
      "Array shape must be same.\n",
      "\n",
      "\n",
      "\n",
      "Total no. of elements :  20\n",
      "\n",
      "size of the first dimension 5\n"
     ]
    }
   ],
   "source": [
    "#adding a constant value to ana array\n",
    "arr = np.array([\n",
    "    [1,2,3,4,5],\n",
    "    [3,4,5,6,34],\n",
    "    [7,8,9,4,80],\n",
    "    [1,2,8,9,100]\n",
    "])\n",
    "arr2 = np.array([\n",
    "    [1,2,3,4],\n",
    "    [3,4,5,6],\n",
    "    [7,8,9,4],\n",
    "    [2,13,4,25]\n",
    "])\n",
    "\n",
    "print(\"\\nOriginal Array : \\n\",arr)\n",
    "print(\"\\nAdding 2 to all the elements of the 2d array : \\n\",arr+2)\n",
    "print(\"\\nSubtracting two from all the elements of the 2d array : \\n\",arr-2)\n",
    "\n",
    "#adding two arrays\n",
    "if(arr.shape == arr2.shape):\n",
    "    print(\"\\nAdding two arrays : \\n\",arr+arr2)\n",
    "else:\n",
    "    print(\"\\nArray shape must be same.\\n\")\n",
    "    \n",
    "#size of the array = total no. of elements inside the array\n",
    "print(\"\\n\")\n",
    "print(\"Total no. of elements : \",arr.size)\n",
    "print(\"\\nsize of the first dimension\",len(arr))"
   ]
  },
  {
   "cell_type": "code",
   "execution_count": null,
   "metadata": {},
   "outputs": [],
   "source": []
  }
 ],
 "metadata": {
  "kernelspec": {
   "display_name": "Python 3",
   "language": "python",
   "name": "python3"
  },
  "language_info": {
   "codemirror_mode": {
    "name": "ipython",
    "version": 3
   },
   "file_extension": ".py",
   "mimetype": "text/x-python",
   "name": "python",
   "nbconvert_exporter": "python",
   "pygments_lexer": "ipython3",
   "version": "3.7.6"
  }
 },
 "nbformat": 4,
 "nbformat_minor": 4
}
